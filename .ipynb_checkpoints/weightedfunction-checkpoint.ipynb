{
 "cells": [
  {
   "cell_type": "code",
   "execution_count": 80,
   "metadata": {},
   "outputs": [],
   "source": [
    "#ex input matrix\n",
    "import numpy as np\n",
    "\n",
    "input_matrix = np.array([[0, 0, 1, 1, 1, 1, 1, 1, 1, 1, 1, 1, 1, 1, 0, 0, 0], \n",
    "                         [1, 1, 1, 1, 1, 1, 1, 1, 1, 1, 1, 1, 1, 0, 0, 0, 0],\n",
    "                         [0, 0, 0, 0, 0, 1, 1, 1, 1, 1, 1, 1, 1, 1, 1, 1, 0],\n",
    "                         [0, 0, 0, 1, 1, 1, 1, 1, 1, 1, 1, 1, 1, 1, 0, 0, 0]])"
   ]
  },
  {
   "cell_type": "code",
   "execution_count": 76,
   "metadata": {},
   "outputs": [],
   "source": [
    "#ex input matrix\n",
    "import numpy as np\n",
    "\n",
    "input_matrix = np.array([[0, 0, 1, 1, 1, 1, 1, 1, 0, 0, 0], \n",
    "                         [1, 1, 1, 1, 1, 1, 0, 0, 0, 0, 0],\n",
    "                         [0, 0, 0, 0, 0, 1, 1, 1, 1, 1, 1],\n",
    "                         [0, 0, 0, 0, 0, 1, 1, 1, 1, 1, 1]])"
   ]
  },
  {
   "cell_type": "code",
   "execution_count": 82,
   "metadata": {},
   "outputs": [
    {
     "data": {
      "text/plain": [
       "array([[0.        , 0.        , 0.        , 0.33333333, 0.66666667,\n",
       "        1.        , 1.        , 1.        , 1.        , 1.        ,\n",
       "        1.        , 0.66666667, 0.33333333, 0.        , 0.        ,\n",
       "        0.        , 0.        ],\n",
       "       [0.        , 0.33333333, 0.66666667, 1.        , 1.        ,\n",
       "        1.        , 1.        , 1.        , 1.        , 1.        ,\n",
       "        0.66666667, 0.33333333, 0.        , 0.        , 0.        ,\n",
       "        0.        , 0.        ],\n",
       "       [0.        , 0.        , 0.        , 0.        , 0.        ,\n",
       "        0.        , 0.33333333, 0.66666667, 1.        , 1.        ,\n",
       "        1.        , 1.        , 1.        , 0.66666667, 0.33333333,\n",
       "        0.        , 0.        ],\n",
       "       [0.        , 0.        , 0.        , 0.        , 0.33333333,\n",
       "        0.66666667, 1.        , 1.        , 1.        , 1.        ,\n",
       "        1.        , 0.66666667, 0.33333333, 0.        , 0.        ,\n",
       "        0.        , 0.        ]])"
      ]
     },
     "execution_count": 82,
     "metadata": {},
     "output_type": "execute_result"
    }
   ],
   "source": [
    "def compute_weight_matrix(input_matrix):\n",
    "    row, col = input_matrix.shape\n",
    "    output_matrix = np.zeros((input_matrix.shape))\n",
    "    T = 15\n",
    "    \n",
    "    for s in range(row):\n",
    "        #get t_a and t_b\n",
    "        time_frame = np.where(input_matrix[s] == 1)\n",
    "        t_a = time_frame[0][0]\n",
    "        t_b = time_frame[0][-1]\n",
    "            \n",
    "        for t in range(col):\n",
    "            #check if track\n",
    "            x = input_matrix[s][t]\n",
    "            if (x == 1):\n",
    "                #apply piecewise function\n",
    "                if ( (t >= t_a) and (t < t_a + T) ):\n",
    "                    output_matrix[s,t] = (t - t_a) / T\n",
    "                elif ( (t >= t_a + T) and (t <= t_b - T) ):\n",
    "                    output_matrix[s,t] = 1\n",
    "                else:\n",
    "                    output_matrix[s,t] = (t_b - t) / T\n",
    "\n",
    "    return output_matrix\n",
    "\n",
    "compute_weight_matrix(input_matrix)"
   ]
  }
 ],
 "metadata": {
  "kernelspec": {
   "display_name": "Python 3",
   "language": "python",
   "name": "python3"
  },
  "language_info": {
   "codemirror_mode": {
    "name": "ipython",
    "version": 3
   },
   "file_extension": ".py",
   "mimetype": "text/x-python",
   "name": "python",
   "nbconvert_exporter": "python",
   "pygments_lexer": "ipython3",
   "version": "3.7.1"
  }
 },
 "nbformat": 4,
 "nbformat_minor": 2
}
